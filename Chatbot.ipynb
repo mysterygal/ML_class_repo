{
  "nbformat": 4,
  "nbformat_minor": 0,
  "metadata": {
    "colab": {
      "name": "Chatbot",
      "provenance": []
    },
    "kernelspec": {
      "name": "python3",
      "display_name": "Python 3"
    },
    "language_info": {
      "name": "python"
    }
  },
  "cells": [
    {
      "cell_type": "code",
      "metadata": {
        "id": "h5m5k3_CT6lB"
      },
      "source": [
        "import nltk\n",
        "from nltk.stem import WordNetLemmatizer"
      ],
      "execution_count": 1,
      "outputs": []
    },
    {
      "cell_type": "code",
      "metadata": {
        "id": "VzySBSxhUScK"
      },
      "source": [
        "import json\n",
        "import pickle"
      ],
      "execution_count": 2,
      "outputs": []
    },
    {
      "cell_type": "code",
      "metadata": {
        "id": "nXScgCjYUizn"
      },
      "source": [
        ""
      ],
      "execution_count": null,
      "outputs": []
    },
    {
      "cell_type": "code",
      "metadata": {
        "id": "FOCXG9V4UbjD"
      },
      "source": [
        "import numpy as np\n",
        "from tensorflow.keras.models import Sequential\n",
        "from tensorflow.keras.layers import Dense, Activation, Dropout\n",
        "from tensorflow.keras.optimizers import SGD\n",
        "import random"
      ],
      "execution_count": 4,
      "outputs": []
    },
    {
      "cell_type": "code",
      "metadata": {
        "id": "CEj7_dKMUg6m"
      },
      "source": [
        "\n",
        "ignore_words = ['?', '!']\n",
        "data_file = open('intents.json').read()\n",
        "intents = json.loads(data_file)"
      ],
      "execution_count": 5,
      "outputs": []
    },
    {
      "cell_type": "code",
      "metadata": {
        "colab": {
          "base_uri": "https://localhost:8080/"
        },
        "id": "0UX1n5xiUqMq",
        "outputId": "ee5e8756-f058-4fe6-9c4e-53589c473ee9"
      },
      "source": [
        "intents"
      ],
      "execution_count": 11,
      "outputs": [
        {
          "output_type": "execute_result",
          "data": {
            "text/plain": [
              "{'intents': [{'context': [''],\n",
              "   'patterns': ['Hi there',\n",
              "    'How are you',\n",
              "    'Is anyone there?',\n",
              "    'Hey',\n",
              "    'Hola',\n",
              "    'Hello',\n",
              "    'Good day'],\n",
              "   'responses': ['Hello, thanks for asking',\n",
              "    'Good to see you again',\n",
              "    'Hi there, how can I help?'],\n",
              "   'tag': 'greeting'},\n",
              "  {'context': [''],\n",
              "   'patterns': ['Bye',\n",
              "    'See you later',\n",
              "    'Goodbye',\n",
              "    'Nice chatting to you, bye',\n",
              "    'Till next time'],\n",
              "   'responses': ['See you!', 'Have a nice day', 'Bye! Come back again soon.'],\n",
              "   'tag': 'goodbye'},\n",
              "  {'context': [''],\n",
              "   'patterns': ['Thanks',\n",
              "    'Thank you',\n",
              "    \"That's helpful\",\n",
              "    'Awesome, thanks',\n",
              "    'Thanks for helping me'],\n",
              "   'responses': ['Happy to help!', 'Any time!', 'My pleasure'],\n",
              "   'tag': 'thanks'},\n",
              "  {'context': [''],\n",
              "   'patterns': [],\n",
              "   'responses': [\"Sorry, can't understand you\",\n",
              "    'Please give me more info',\n",
              "    'Not sure I understand'],\n",
              "   'tag': 'noanswer'},\n",
              "  {'context': [''],\n",
              "   'patterns': ['How you could help me?',\n",
              "    'What you can do?',\n",
              "    'What help you provide?',\n",
              "    'How you can be helpful?',\n",
              "    'What support is offered'],\n",
              "   'responses': ['I can guide you through Adverse drug reaction list, Blood pressure tracking, Hospitals and Pharmacies',\n",
              "    'Offering support for Adverse drug reaction, Blood pressure, Hospitals and Pharmacies'],\n",
              "   'tag': 'options'},\n",
              "  {'context': [''],\n",
              "   'patterns': ['How to check Adverse drug reaction?',\n",
              "    'Open adverse drugs module',\n",
              "    'Give me a list of drugs causing adverse behavior',\n",
              "    'List all drugs suitable for patient with adverse reaction',\n",
              "    'Which drugs dont have adverse reaction?'],\n",
              "   'responses': ['Navigating to Adverse drug reaction module'],\n",
              "   'tag': 'adverse_drug'},\n",
              "  {'context': [''],\n",
              "   'patterns': ['Open blood pressure module',\n",
              "    'Task related to blood pressure',\n",
              "    'Blood pressure data entry',\n",
              "    'I want to log blood pressure results',\n",
              "    'Blood pressure data management'],\n",
              "   'responses': ['Navigating to Blood Pressure module'],\n",
              "   'tag': 'blood_pressure'},\n",
              "  {'context': ['search_blood_pressure_by_patient_id'],\n",
              "   'patterns': ['I want to search for blood pressure result history',\n",
              "    'Blood pressure for patient',\n",
              "    'Load patient blood pressure result',\n",
              "    'Show blood pressure results for patient',\n",
              "    'Find blood pressure results by ID'],\n",
              "   'responses': ['Please provide Patient ID', 'Patient ID?'],\n",
              "   'tag': 'blood_pressure_search'},\n",
              "  {'context': [''],\n",
              "   'patterns': [],\n",
              "   'responses': ['Loading Blood pressure result for Patient'],\n",
              "   'tag': 'search_blood_pressure_by_patient_id'},\n",
              "  {'context': ['search_pharmacy_by_name'],\n",
              "   'patterns': ['Find me a pharmacy',\n",
              "    'Find pharmacy',\n",
              "    'List of pharmacies nearby',\n",
              "    'Locate pharmacy',\n",
              "    'Search pharmacy'],\n",
              "   'responses': ['Please provide pharmacy name'],\n",
              "   'tag': 'pharmacy_search'},\n",
              "  {'context': [''],\n",
              "   'patterns': [],\n",
              "   'responses': ['Loading pharmacy details'],\n",
              "   'tag': 'search_pharmacy_by_name'},\n",
              "  {'context': ['search_hospital_by_params'],\n",
              "   'patterns': ['Lookup for hospital',\n",
              "    'Searching for hospital to transfer patient',\n",
              "    'I want to search hospital data',\n",
              "    'Hospital lookup for patient',\n",
              "    'Looking up hospital details'],\n",
              "   'responses': ['Please provide hospital name or location'],\n",
              "   'tag': 'hospital_search'},\n",
              "  {'context': ['search_hospital_by_type'],\n",
              "   'patterns': [],\n",
              "   'responses': ['Please provide hospital type'],\n",
              "   'tag': 'search_hospital_by_params'},\n",
              "  {'context': [''],\n",
              "   'patterns': [],\n",
              "   'responses': ['Loading hospital details'],\n",
              "   'tag': 'search_hospital_by_type'}]}"
            ]
          },
          "metadata": {
            "tags": []
          },
          "execution_count": 11
        }
      ]
    },
    {
      "cell_type": "code",
      "metadata": {
        "id": "qNPRzJAHUsl2"
      },
      "source": [
        "lemmatizer = WordNetLemmatizer()"
      ],
      "execution_count": 8,
      "outputs": []
    },
    {
      "cell_type": "code",
      "metadata": {
        "colab": {
          "base_uri": "https://localhost:8080/"
        },
        "id": "7741PtuqVAel",
        "outputId": "d29dab85-c136-4d49-8121-f911b9be47bc"
      },
      "source": [
        "# Preprocess data\n",
        "nltk.download('punkt')"
      ],
      "execution_count": 13,
      "outputs": [
        {
          "output_type": "stream",
          "text": [
            "[nltk_data] Downloading package punkt to /root/nltk_data...\n",
            "[nltk_data]   Unzipping tokenizers/punkt.zip.\n"
          ],
          "name": "stdout"
        },
        {
          "output_type": "execute_result",
          "data": {
            "text/plain": [
              "True"
            ]
          },
          "metadata": {
            "tags": []
          },
          "execution_count": 13
        }
      ]
    },
    {
      "cell_type": "code",
      "metadata": {
        "id": "2UnMFIWkVeef"
      },
      "source": [
        "words=[]\n",
        "classes = []\n",
        "documents = []\n",
        "for intent in intents['intents']:\n",
        "  #print(intent)\n",
        "    for pattern in intent['patterns']:\n",
        "      #tokenize each word\n",
        "        w = nltk.word_tokenize(pattern)\n",
        "        words.extend(w)\n",
        "        documents.append((w, intent['tag']))\n",
        "        # add to our classes list\n",
        "        if intent['tag'] not in classes:\n",
        "            classes.append(intent['tag'])\n",
        "    \n",
        "   \n",
        "\n"
      ],
      "execution_count": 22,
      "outputs": []
    },
    {
      "cell_type": "code",
      "metadata": {
        "colab": {
          "base_uri": "https://localhost:8080/"
        },
        "id": "sjsBJc8Pfb79",
        "outputId": "10e5cceb-803f-40a6-d201-1615cefed034"
      },
      "source": [
        "nltk.download('wordnet')"
      ],
      "execution_count": 27,
      "outputs": [
        {
          "output_type": "stream",
          "text": [
            "[nltk_data] Downloading package wordnet to /root/nltk_data...\n",
            "[nltk_data]   Unzipping corpora/wordnet.zip.\n"
          ],
          "name": "stdout"
        },
        {
          "output_type": "execute_result",
          "data": {
            "text/plain": [
              "True"
            ]
          },
          "metadata": {
            "tags": []
          },
          "execution_count": 27
        }
      ]
    },
    {
      "cell_type": "code",
      "metadata": {
        "colab": {
          "base_uri": "https://localhost:8080/"
        },
        "id": "BcuV9AmwZRVQ",
        "outputId": "39b5e45d-a4d4-40c8-d8dc-a9d331e385b7"
      },
      "source": [
        "# lemmatize, lower each word and remove duplicates\n",
        "words = [lemmatizer.lemmatize(w.lower()) for w in words if w not in ignore_words]\n",
        "words = sorted(list(set(words)))\n",
        "# sort classes\n",
        "classes = sorted(list(set(classes)))\n",
        "# documents = combination between patterns and intents\n",
        "print (len(documents), \"documents\")\n",
        "# classes = intents\n",
        "print (len(classes), \"classes\", classes)\n",
        "# words = all words, vocabulary\n",
        "print (len(words), \"unique lemmatized words\", words)\n",
        "\n"
      ],
      "execution_count": 30,
      "outputs": [
        {
          "output_type": "stream",
          "text": [
            "47 documents\n",
            "9 classes ['adverse_drug', 'blood_pressure', 'blood_pressure_search', 'goodbye', 'greeting', 'hospital_search', 'options', 'pharmacy_search', 'thanks']\n",
            "88 unique lemmatized words [\"'s\", ',', 'a', 'adverse', 'all', 'anyone', 'are', 'awesome', 'be', 'behavior', 'blood', 'by', 'bye', 'can', 'causing', 'chatting', 'check', 'could', 'data', 'day', 'detail', 'do', 'dont', 'drug', 'entry', 'find', 'for', 'give', 'good', 'goodbye', 'have', 'hello', 'help', 'helpful', 'helping', 'hey', 'hi', 'history', 'hola', 'hospital', 'how', 'i', 'id', 'is', 'later', 'list', 'load', 'locate', 'log', 'looking', 'lookup', 'management', 'me', 'module', 'nearby', 'next', 'nice', 'of', 'offered', 'open', 'patient', 'pharmacy', 'pressure', 'provide', 'reaction', 'related', 'result', 'search', 'searching', 'see', 'show', 'suitable', 'support', 'task', 'thank', 'thanks', 'that', 'there', 'till', 'time', 'to', 'transfer', 'up', 'want', 'what', 'which', 'with', 'you']\n"
          ],
          "name": "stdout"
        }
      ]
    },
    {
      "cell_type": "code",
      "metadata": {
        "id": "piYyE-aefVuf"
      },
      "source": [
        "pickle.dump(words,open('words.pkl','wb'))\n",
        "pickle.dump(classes,open('classes.pkl','wb'))"
      ],
      "execution_count": 31,
      "outputs": []
    },
    {
      "cell_type": "code",
      "metadata": {
        "colab": {
          "base_uri": "https://localhost:8080/"
        },
        "id": "y8Iztx7bffha",
        "outputId": "64eb9c53-f5d2-4fdf-b8dc-a4cf0429a739"
      },
      "source": [
        "# create our training data\n",
        "training = []\n",
        "# create an empty array for our output\n",
        "output_empty = [0] * len(classes)\n",
        "# training set, bag of words for each sentence\n",
        "for doc in documents:\n",
        "    # initialize our bag of words\n",
        "    bag = []\n",
        "    # list of tokenized words for the pattern\n",
        "    pattern_words = doc[0]\n",
        "    # lemmatize each word - create base word, in attempt to represent related words\n",
        "    pattern_words = [lemmatizer.lemmatize(word.lower()) for word in pattern_words]\n",
        "    # create our bag of words array with 1, if word match found in current pattern\n",
        "    for w in words:\n",
        "        bag.append(1) if w in pattern_words else bag.append(0)\n",
        "    # output is a '0' for each tag and '1' for current tag (for each pattern)\n",
        "    output_row = list(output_empty)\n",
        "    output_row[classes.index(doc[1])] = 1\n",
        "    training.append([bag, output_row])\n",
        "# shuffle our features and turn into np.array\n",
        "random.shuffle(training)\n",
        "training = np.array(training)\n",
        "# create train and test lists. X - patterns, Y - intents\n",
        "train_x = list(training[:,0])\n",
        "train_y = list(training[:,1])\n",
        "print(\"Training data created\")"
      ],
      "execution_count": 34,
      "outputs": [
        {
          "output_type": "stream",
          "text": [
            "Training data created\n"
          ],
          "name": "stdout"
        },
        {
          "output_type": "stream",
          "text": [
            "/usr/local/lib/python3.7/dist-packages/ipykernel_launcher.py:22: VisibleDeprecationWarning: Creating an ndarray from ragged nested sequences (which is a list-or-tuple of lists-or-tuples-or ndarrays with different lengths or shapes) is deprecated. If you meant to do this, you must specify 'dtype=object' when creating the ndarray\n"
          ],
          "name": "stderr"
        }
      ]
    },
    {
      "cell_type": "code",
      "metadata": {
        "id": "32ujLPu0jxEt"
      },
      "source": [
        "model = Sequential()\n",
        "model.add(Dense(128, input_shape=(len(train_x[0]),), activation='relu'))\n",
        "model.add(Dropout(0.5))\n",
        "model.add(Dense(64, activation='relu'))\n",
        "model.add(Dropout(0.5))\n",
        "model.add(Dense(len(train_y[0]), activation='softmax'))"
      ],
      "execution_count": 40,
      "outputs": []
    },
    {
      "cell_type": "code",
      "metadata": {
        "colab": {
          "base_uri": "https://localhost:8080/"
        },
        "id": "5vjXDdx-kdCN",
        "outputId": "2407cb3a-45a7-4588-8eec-d3296c9fe80e"
      },
      "source": [
        "model.summary()"
      ],
      "execution_count": 41,
      "outputs": [
        {
          "output_type": "stream",
          "text": [
            "Model: \"sequential\"\n",
            "_________________________________________________________________\n",
            "Layer (type)                 Output Shape              Param #   \n",
            "=================================================================\n",
            "dense (Dense)                (None, 128)               11392     \n",
            "_________________________________________________________________\n",
            "dropout (Dropout)            (None, 128)               0         \n",
            "_________________________________________________________________\n",
            "dense_1 (Dense)              (None, 64)                8256      \n",
            "_________________________________________________________________\n",
            "dropout_1 (Dropout)          (None, 64)                0         \n",
            "_________________________________________________________________\n",
            "dense_2 (Dense)              (None, 9)                 585       \n",
            "=================================================================\n",
            "Total params: 20,233\n",
            "Trainable params: 20,233\n",
            "Non-trainable params: 0\n",
            "_________________________________________________________________\n"
          ],
          "name": "stdout"
        }
      ]
    },
    {
      "cell_type": "code",
      "metadata": {
        "colab": {
          "base_uri": "https://localhost:8080/"
        },
        "id": "Mn-rv8SslE17",
        "outputId": "32aa70fa-387f-4eda-cd2c-5c7bd4f3c9aa"
      },
      "source": [
        "sgd = SGD(lr=0.01, decay=1e-6, momentum=0.9, nesterov=True)\n",
        "model.compile(loss='categorical_crossentropy', optimizer=sgd, metrics=['accuracy'])\n",
        "#fitting and saving the model \n",
        "hist = model.fit(np.array(train_x), np.array(train_y), epochs=200, batch_size=5, verbose=1)"
      ],
      "execution_count": 42,
      "outputs": [
        {
          "output_type": "stream",
          "text": [
            "Epoch 1/200\n",
            "10/10 [==============================] - 1s 2ms/step - loss: 2.1161 - accuracy: 0.0788\n",
            "Epoch 2/200\n",
            "10/10 [==============================] - 0s 2ms/step - loss: 2.1515 - accuracy: 0.1384\n",
            "Epoch 3/200\n",
            "10/10 [==============================] - 0s 2ms/step - loss: 2.0187 - accuracy: 0.2727\n",
            "Epoch 4/200\n",
            "10/10 [==============================] - 0s 2ms/step - loss: 1.9581 - accuracy: 0.3302\n",
            "Epoch 5/200\n",
            "10/10 [==============================] - 0s 2ms/step - loss: 1.7343 - accuracy: 0.4592\n",
            "Epoch 6/200\n",
            "10/10 [==============================] - 0s 2ms/step - loss: 1.7214 - accuracy: 0.4379\n",
            "Epoch 7/200\n",
            "10/10 [==============================] - 0s 2ms/step - loss: 1.5745 - accuracy: 0.4673\n",
            "Epoch 8/200\n",
            "10/10 [==============================] - 0s 2ms/step - loss: 1.3818 - accuracy: 0.5952\n",
            "Epoch 9/200\n",
            "10/10 [==============================] - 0s 2ms/step - loss: 1.1652 - accuracy: 0.6513\n",
            "Epoch 10/200\n",
            "10/10 [==============================] - 0s 2ms/step - loss: 1.2925 - accuracy: 0.6359\n",
            "Epoch 11/200\n",
            "10/10 [==============================] - 0s 2ms/step - loss: 1.1759 - accuracy: 0.5821\n",
            "Epoch 12/200\n",
            "10/10 [==============================] - 0s 2ms/step - loss: 1.1125 - accuracy: 0.6581\n",
            "Epoch 13/200\n",
            "10/10 [==============================] - 0s 2ms/step - loss: 1.0500 - accuracy: 0.7000\n",
            "Epoch 14/200\n",
            "10/10 [==============================] - 0s 2ms/step - loss: 0.8515 - accuracy: 0.7764\n",
            "Epoch 15/200\n",
            "10/10 [==============================] - 0s 2ms/step - loss: 0.6735 - accuracy: 0.8325\n",
            "Epoch 16/200\n",
            "10/10 [==============================] - 0s 2ms/step - loss: 0.8085 - accuracy: 0.8349\n",
            "Epoch 17/200\n",
            "10/10 [==============================] - 0s 2ms/step - loss: 0.7229 - accuracy: 0.7057\n",
            "Epoch 18/200\n",
            "10/10 [==============================] - 0s 2ms/step - loss: 0.5489 - accuracy: 0.8370\n",
            "Epoch 19/200\n",
            "10/10 [==============================] - 0s 1ms/step - loss: 0.4900 - accuracy: 0.9040\n",
            "Epoch 20/200\n",
            "10/10 [==============================] - 0s 2ms/step - loss: 0.6514 - accuracy: 0.8839\n",
            "Epoch 21/200\n",
            "10/10 [==============================] - 0s 2ms/step - loss: 0.3584 - accuracy: 0.9440\n",
            "Epoch 22/200\n",
            "10/10 [==============================] - 0s 2ms/step - loss: 0.4835 - accuracy: 0.9059\n",
            "Epoch 23/200\n",
            "10/10 [==============================] - 0s 3ms/step - loss: 0.3275 - accuracy: 0.9301\n",
            "Epoch 24/200\n",
            "10/10 [==============================] - 0s 2ms/step - loss: 0.3673 - accuracy: 0.9447\n",
            "Epoch 25/200\n",
            "10/10 [==============================] - 0s 2ms/step - loss: 0.2905 - accuracy: 0.8720\n",
            "Epoch 26/200\n",
            "10/10 [==============================] - 0s 2ms/step - loss: 0.6357 - accuracy: 0.7011\n",
            "Epoch 27/200\n",
            "10/10 [==============================] - 0s 2ms/step - loss: 0.2055 - accuracy: 0.9498\n",
            "Epoch 28/200\n",
            "10/10 [==============================] - 0s 2ms/step - loss: 0.2874 - accuracy: 0.8788\n",
            "Epoch 29/200\n",
            "10/10 [==============================] - 0s 3ms/step - loss: 0.1963 - accuracy: 0.9626\n",
            "Epoch 30/200\n",
            "10/10 [==============================] - 0s 2ms/step - loss: 0.2198 - accuracy: 0.9826\n",
            "Epoch 31/200\n",
            "10/10 [==============================] - 0s 2ms/step - loss: 0.1474 - accuracy: 0.9637\n",
            "Epoch 32/200\n",
            "10/10 [==============================] - 0s 2ms/step - loss: 0.2214 - accuracy: 0.9453\n",
            "Epoch 33/200\n",
            "10/10 [==============================] - 0s 2ms/step - loss: 0.1620 - accuracy: 0.9440\n",
            "Epoch 34/200\n",
            "10/10 [==============================] - 0s 2ms/step - loss: 0.1658 - accuracy: 0.9892\n",
            "Epoch 35/200\n",
            "10/10 [==============================] - 0s 2ms/step - loss: 0.2069 - accuracy: 0.9606\n",
            "Epoch 36/200\n",
            "10/10 [==============================] - 0s 2ms/step - loss: 0.1417 - accuracy: 0.9593\n",
            "Epoch 37/200\n",
            "10/10 [==============================] - 0s 2ms/step - loss: 0.1045 - accuracy: 0.9826\n",
            "Epoch 38/200\n",
            "10/10 [==============================] - 0s 2ms/step - loss: 0.1870 - accuracy: 0.9423\n",
            "Epoch 39/200\n",
            "10/10 [==============================] - 0s 2ms/step - loss: 0.1371 - accuracy: 0.9388\n",
            "Epoch 40/200\n",
            "10/10 [==============================] - 0s 2ms/step - loss: 0.1171 - accuracy: 0.9447\n",
            "Epoch 41/200\n",
            "10/10 [==============================] - 0s 2ms/step - loss: 0.2832 - accuracy: 0.9328\n",
            "Epoch 42/200\n",
            "10/10 [==============================] - 0s 2ms/step - loss: 0.1817 - accuracy: 0.9409\n",
            "Epoch 43/200\n",
            "10/10 [==============================] - 0s 2ms/step - loss: 0.1820 - accuracy: 0.9606\n",
            "Epoch 44/200\n",
            "10/10 [==============================] - 0s 2ms/step - loss: 0.1492 - accuracy: 1.0000\n",
            "Epoch 45/200\n",
            "10/10 [==============================] - 0s 2ms/step - loss: 0.0700 - accuracy: 0.9918\n",
            "Epoch 46/200\n",
            "10/10 [==============================] - 0s 3ms/step - loss: 0.0944 - accuracy: 0.9651\n",
            "Epoch 47/200\n",
            "10/10 [==============================] - 0s 2ms/step - loss: 0.1175 - accuracy: 0.9339\n",
            "Epoch 48/200\n",
            "10/10 [==============================] - 0s 2ms/step - loss: 0.2623 - accuracy: 0.9455\n",
            "Epoch 49/200\n",
            "10/10 [==============================] - 0s 2ms/step - loss: 0.0857 - accuracy: 0.9862\n",
            "Epoch 50/200\n",
            "10/10 [==============================] - 0s 3ms/step - loss: 0.0767 - accuracy: 1.0000\n",
            "Epoch 51/200\n",
            "10/10 [==============================] - 0s 2ms/step - loss: 0.1599 - accuracy: 0.9491\n",
            "Epoch 52/200\n",
            "10/10 [==============================] - 0s 2ms/step - loss: 0.0954 - accuracy: 1.0000\n",
            "Epoch 53/200\n",
            "10/10 [==============================] - 0s 2ms/step - loss: 0.1035 - accuracy: 0.9918\n",
            "Epoch 54/200\n",
            "10/10 [==============================] - 0s 2ms/step - loss: 0.0687 - accuracy: 1.0000\n",
            "Epoch 55/200\n",
            "10/10 [==============================] - 0s 2ms/step - loss: 0.1440 - accuracy: 1.0000\n",
            "Epoch 56/200\n",
            "10/10 [==============================] - 0s 2ms/step - loss: 0.1062 - accuracy: 0.9826\n",
            "Epoch 57/200\n",
            "10/10 [==============================] - 0s 2ms/step - loss: 0.1274 - accuracy: 0.9545\n",
            "Epoch 58/200\n",
            "10/10 [==============================] - 0s 2ms/step - loss: 0.0541 - accuracy: 1.0000\n",
            "Epoch 59/200\n",
            "10/10 [==============================] - 0s 2ms/step - loss: 0.1419 - accuracy: 0.9409\n",
            "Epoch 60/200\n",
            "10/10 [==============================] - 0s 2ms/step - loss: 0.1212 - accuracy: 0.9629\n",
            "Epoch 61/200\n",
            "10/10 [==============================] - 0s 2ms/step - loss: 0.0646 - accuracy: 0.9892\n",
            "Epoch 62/200\n",
            "10/10 [==============================] - 0s 2ms/step - loss: 0.1372 - accuracy: 0.9720\n",
            "Epoch 63/200\n",
            "10/10 [==============================] - 0s 2ms/step - loss: 0.1149 - accuracy: 1.0000\n",
            "Epoch 64/200\n",
            "10/10 [==============================] - 0s 2ms/step - loss: 0.1300 - accuracy: 0.9383\n",
            "Epoch 65/200\n",
            "10/10 [==============================] - 0s 2ms/step - loss: 0.0534 - accuracy: 1.0000\n",
            "Epoch 66/200\n",
            "10/10 [==============================] - 0s 2ms/step - loss: 0.1135 - accuracy: 1.0000\n",
            "Epoch 67/200\n",
            "10/10 [==============================] - 0s 2ms/step - loss: 0.0996 - accuracy: 0.9629\n",
            "Epoch 68/200\n",
            "10/10 [==============================] - 0s 2ms/step - loss: 0.1544 - accuracy: 0.9038\n",
            "Epoch 69/200\n",
            "10/10 [==============================] - 0s 2ms/step - loss: 0.0404 - accuracy: 1.0000\n",
            "Epoch 70/200\n",
            "10/10 [==============================] - 0s 2ms/step - loss: 0.0493 - accuracy: 0.9941\n",
            "Epoch 71/200\n",
            "10/10 [==============================] - 0s 2ms/step - loss: 0.0434 - accuracy: 1.0000\n",
            "Epoch 72/200\n",
            "10/10 [==============================] - 0s 2ms/step - loss: 0.0554 - accuracy: 1.0000\n",
            "Epoch 73/200\n",
            "10/10 [==============================] - 0s 2ms/step - loss: 0.0463 - accuracy: 1.0000\n",
            "Epoch 74/200\n",
            "10/10 [==============================] - 0s 2ms/step - loss: 0.0609 - accuracy: 1.0000\n",
            "Epoch 75/200\n",
            "10/10 [==============================] - 0s 2ms/step - loss: 0.0456 - accuracy: 1.0000\n",
            "Epoch 76/200\n",
            "10/10 [==============================] - 0s 2ms/step - loss: 0.0585 - accuracy: 1.0000\n",
            "Epoch 77/200\n",
            "10/10 [==============================] - 0s 2ms/step - loss: 0.0650 - accuracy: 0.9826\n",
            "Epoch 78/200\n",
            "10/10 [==============================] - 0s 2ms/step - loss: 0.0533 - accuracy: 1.0000\n",
            "Epoch 79/200\n",
            "10/10 [==============================] - 0s 2ms/step - loss: 0.0543 - accuracy: 0.9826\n",
            "Epoch 80/200\n",
            "10/10 [==============================] - 0s 2ms/step - loss: 0.0521 - accuracy: 0.9780\n",
            "Epoch 81/200\n",
            "10/10 [==============================] - 0s 2ms/step - loss: 0.0255 - accuracy: 1.0000\n",
            "Epoch 82/200\n",
            "10/10 [==============================] - 0s 3ms/step - loss: 0.0269 - accuracy: 1.0000\n",
            "Epoch 83/200\n",
            "10/10 [==============================] - 0s 2ms/step - loss: 0.0216 - accuracy: 1.0000\n",
            "Epoch 84/200\n",
            "10/10 [==============================] - 0s 3ms/step - loss: 0.0519 - accuracy: 1.0000\n",
            "Epoch 85/200\n",
            "10/10 [==============================] - 0s 2ms/step - loss: 0.0237 - accuracy: 1.0000\n",
            "Epoch 86/200\n",
            "10/10 [==============================] - 0s 2ms/step - loss: 0.0312 - accuracy: 1.0000\n",
            "Epoch 87/200\n",
            "10/10 [==============================] - 0s 2ms/step - loss: 0.0276 - accuracy: 1.0000\n",
            "Epoch 88/200\n",
            "10/10 [==============================] - 0s 2ms/step - loss: 0.0145 - accuracy: 1.0000\n",
            "Epoch 89/200\n",
            "10/10 [==============================] - 0s 2ms/step - loss: 0.0769 - accuracy: 0.9500\n",
            "Epoch 90/200\n",
            "10/10 [==============================] - 0s 2ms/step - loss: 0.0330 - accuracy: 1.0000\n",
            "Epoch 91/200\n",
            "10/10 [==============================] - 0s 2ms/step - loss: 0.0289 - accuracy: 1.0000\n",
            "Epoch 92/200\n",
            "10/10 [==============================] - 0s 2ms/step - loss: 0.1011 - accuracy: 0.9862\n",
            "Epoch 93/200\n",
            "10/10 [==============================] - 0s 2ms/step - loss: 0.0416 - accuracy: 0.9892\n",
            "Epoch 94/200\n",
            "10/10 [==============================] - 0s 2ms/step - loss: 0.1141 - accuracy: 0.9582\n",
            "Epoch 95/200\n",
            "10/10 [==============================] - 0s 2ms/step - loss: 0.0179 - accuracy: 1.0000\n",
            "Epoch 96/200\n",
            "10/10 [==============================] - 0s 2ms/step - loss: 0.0693 - accuracy: 0.9780\n",
            "Epoch 97/200\n",
            "10/10 [==============================] - 0s 2ms/step - loss: 0.0169 - accuracy: 1.0000\n",
            "Epoch 98/200\n",
            "10/10 [==============================] - 0s 2ms/step - loss: 0.0398 - accuracy: 0.9780\n",
            "Epoch 99/200\n",
            "10/10 [==============================] - 0s 2ms/step - loss: 0.0329 - accuracy: 0.9961\n",
            "Epoch 100/200\n",
            "10/10 [==============================] - 0s 2ms/step - loss: 0.0269 - accuracy: 1.0000\n",
            "Epoch 101/200\n",
            "10/10 [==============================] - 0s 2ms/step - loss: 0.0107 - accuracy: 1.0000\n",
            "Epoch 102/200\n",
            "10/10 [==============================] - 0s 2ms/step - loss: 0.0252 - accuracy: 1.0000\n",
            "Epoch 103/200\n",
            "10/10 [==============================] - 0s 2ms/step - loss: 0.0198 - accuracy: 1.0000\n",
            "Epoch 104/200\n",
            "10/10 [==============================] - 0s 2ms/step - loss: 0.0361 - accuracy: 1.0000\n",
            "Epoch 105/200\n",
            "10/10 [==============================] - 0s 2ms/step - loss: 0.0222 - accuracy: 1.0000\n",
            "Epoch 106/200\n",
            "10/10 [==============================] - 0s 2ms/step - loss: 0.0591 - accuracy: 0.9892\n",
            "Epoch 107/200\n",
            "10/10 [==============================] - 0s 2ms/step - loss: 0.0177 - accuracy: 1.0000\n",
            "Epoch 108/200\n",
            "10/10 [==============================] - 0s 2ms/step - loss: 0.0769 - accuracy: 0.9720\n",
            "Epoch 109/200\n",
            "10/10 [==============================] - 0s 2ms/step - loss: 0.0517 - accuracy: 1.0000\n",
            "Epoch 110/200\n",
            "10/10 [==============================] - 0s 2ms/step - loss: 0.0577 - accuracy: 0.9720\n",
            "Epoch 111/200\n",
            "10/10 [==============================] - 0s 2ms/step - loss: 0.0479 - accuracy: 0.9826\n",
            "Epoch 112/200\n",
            "10/10 [==============================] - 0s 2ms/step - loss: 0.0601 - accuracy: 1.0000\n",
            "Epoch 113/200\n",
            "10/10 [==============================] - 0s 2ms/step - loss: 0.0262 - accuracy: 0.9961\n",
            "Epoch 114/200\n",
            "10/10 [==============================] - 0s 2ms/step - loss: 0.0123 - accuracy: 1.0000\n",
            "Epoch 115/200\n",
            "10/10 [==============================] - 0s 2ms/step - loss: 0.0231 - accuracy: 1.0000\n",
            "Epoch 116/200\n",
            "10/10 [==============================] - 0s 2ms/step - loss: 0.0123 - accuracy: 1.0000\n",
            "Epoch 117/200\n",
            "10/10 [==============================] - 0s 2ms/step - loss: 0.0249 - accuracy: 1.0000\n",
            "Epoch 118/200\n",
            "10/10 [==============================] - 0s 2ms/step - loss: 0.0141 - accuracy: 1.0000\n",
            "Epoch 119/200\n",
            "10/10 [==============================] - 0s 2ms/step - loss: 0.0850 - accuracy: 0.9720\n",
            "Epoch 120/200\n",
            "10/10 [==============================] - 0s 2ms/step - loss: 0.0254 - accuracy: 1.0000\n",
            "Epoch 121/200\n",
            "10/10 [==============================] - 0s 2ms/step - loss: 0.0161 - accuracy: 1.0000\n",
            "Epoch 122/200\n",
            "10/10 [==============================] - 0s 3ms/step - loss: 0.0056 - accuracy: 1.0000\n",
            "Epoch 123/200\n",
            "10/10 [==============================] - 0s 2ms/step - loss: 0.0263 - accuracy: 1.0000\n",
            "Epoch 124/200\n",
            "10/10 [==============================] - 0s 2ms/step - loss: 0.0088 - accuracy: 1.0000\n",
            "Epoch 125/200\n",
            "10/10 [==============================] - 0s 2ms/step - loss: 0.0174 - accuracy: 1.0000\n",
            "Epoch 126/200\n",
            "10/10 [==============================] - 0s 2ms/step - loss: 0.0575 - accuracy: 0.9629\n",
            "Epoch 127/200\n",
            "10/10 [==============================] - 0s 2ms/step - loss: 0.0237 - accuracy: 1.0000\n",
            "Epoch 128/200\n",
            "10/10 [==============================] - 0s 2ms/step - loss: 0.0211 - accuracy: 1.0000\n",
            "Epoch 129/200\n",
            "10/10 [==============================] - 0s 2ms/step - loss: 0.0326 - accuracy: 1.0000\n",
            "Epoch 130/200\n",
            "10/10 [==============================] - 0s 2ms/step - loss: 0.0160 - accuracy: 1.0000\n",
            "Epoch 131/200\n",
            "10/10 [==============================] - 0s 2ms/step - loss: 0.0258 - accuracy: 1.0000\n",
            "Epoch 132/200\n",
            "10/10 [==============================] - 0s 2ms/step - loss: 0.0152 - accuracy: 1.0000\n",
            "Epoch 133/200\n",
            "10/10 [==============================] - 0s 2ms/step - loss: 0.0114 - accuracy: 1.0000\n",
            "Epoch 134/200\n",
            "10/10 [==============================] - 0s 2ms/step - loss: 0.0750 - accuracy: 0.9826\n",
            "Epoch 135/200\n",
            "10/10 [==============================] - 0s 2ms/step - loss: 0.0435 - accuracy: 1.0000\n",
            "Epoch 136/200\n",
            "10/10 [==============================] - 0s 2ms/step - loss: 0.0161 - accuracy: 1.0000\n",
            "Epoch 137/200\n",
            "10/10 [==============================] - 0s 2ms/step - loss: 0.0234 - accuracy: 1.0000\n",
            "Epoch 138/200\n",
            "10/10 [==============================] - 0s 2ms/step - loss: 0.0451 - accuracy: 1.0000\n",
            "Epoch 139/200\n",
            "10/10 [==============================] - 0s 2ms/step - loss: 0.0114 - accuracy: 1.0000\n",
            "Epoch 140/200\n",
            "10/10 [==============================] - 0s 2ms/step - loss: 0.0484 - accuracy: 0.9826\n",
            "Epoch 141/200\n",
            "10/10 [==============================] - 0s 2ms/step - loss: 0.0593 - accuracy: 0.9447\n",
            "Epoch 142/200\n",
            "10/10 [==============================] - 0s 2ms/step - loss: 0.0156 - accuracy: 1.0000\n",
            "Epoch 143/200\n",
            "10/10 [==============================] - 0s 2ms/step - loss: 0.0099 - accuracy: 1.0000\n",
            "Epoch 144/200\n",
            "10/10 [==============================] - 0s 2ms/step - loss: 0.0311 - accuracy: 1.0000\n",
            "Epoch 145/200\n",
            "10/10 [==============================] - 0s 2ms/step - loss: 0.0274 - accuracy: 0.9862\n",
            "Epoch 146/200\n",
            "10/10 [==============================] - 0s 3ms/step - loss: 0.0103 - accuracy: 1.0000\n",
            "Epoch 147/200\n",
            "10/10 [==============================] - 0s 2ms/step - loss: 0.0219 - accuracy: 1.0000\n",
            "Epoch 148/200\n",
            "10/10 [==============================] - 0s 2ms/step - loss: 0.0100 - accuracy: 1.0000\n",
            "Epoch 149/200\n",
            "10/10 [==============================] - 0s 2ms/step - loss: 0.0259 - accuracy: 1.0000\n",
            "Epoch 150/200\n",
            "10/10 [==============================] - 0s 2ms/step - loss: 0.0232 - accuracy: 0.9941\n",
            "Epoch 151/200\n",
            "10/10 [==============================] - 0s 2ms/step - loss: 0.0100 - accuracy: 1.0000\n",
            "Epoch 152/200\n",
            "10/10 [==============================] - 0s 2ms/step - loss: 0.0067 - accuracy: 1.0000\n",
            "Epoch 153/200\n",
            "10/10 [==============================] - 0s 2ms/step - loss: 0.0168 - accuracy: 1.0000\n",
            "Epoch 154/200\n",
            "10/10 [==============================] - 0s 2ms/step - loss: 0.0186 - accuracy: 1.0000\n",
            "Epoch 155/200\n",
            "10/10 [==============================] - 0s 2ms/step - loss: 0.0139 - accuracy: 1.0000\n",
            "Epoch 156/200\n",
            "10/10 [==============================] - 0s 2ms/step - loss: 0.0065 - accuracy: 1.0000\n",
            "Epoch 157/200\n",
            "10/10 [==============================] - 0s 2ms/step - loss: 0.0167 - accuracy: 1.0000\n",
            "Epoch 158/200\n",
            "10/10 [==============================] - 0s 2ms/step - loss: 0.0450 - accuracy: 1.0000\n",
            "Epoch 159/200\n",
            "10/10 [==============================] - 0s 2ms/step - loss: 0.0202 - accuracy: 0.9961\n",
            "Epoch 160/200\n",
            "10/10 [==============================] - 0s 2ms/step - loss: 0.0207 - accuracy: 1.0000\n",
            "Epoch 161/200\n",
            "10/10 [==============================] - 0s 2ms/step - loss: 0.0579 - accuracy: 0.9629\n",
            "Epoch 162/200\n",
            "10/10 [==============================] - 0s 2ms/step - loss: 0.0019 - accuracy: 1.0000\n",
            "Epoch 163/200\n",
            "10/10 [==============================] - 0s 2ms/step - loss: 0.0536 - accuracy: 0.9780\n",
            "Epoch 164/200\n",
            "10/10 [==============================] - 0s 2ms/step - loss: 0.0138 - accuracy: 1.0000\n",
            "Epoch 165/200\n",
            "10/10 [==============================] - 0s 2ms/step - loss: 0.0271 - accuracy: 0.9918\n",
            "Epoch 166/200\n",
            "10/10 [==============================] - 0s 2ms/step - loss: 0.0132 - accuracy: 0.9918\n",
            "Epoch 167/200\n",
            "10/10 [==============================] - 0s 2ms/step - loss: 0.0500 - accuracy: 0.9862\n",
            "Epoch 168/200\n",
            "10/10 [==============================] - 0s 2ms/step - loss: 0.0034 - accuracy: 1.0000\n",
            "Epoch 169/200\n",
            "10/10 [==============================] - 0s 2ms/step - loss: 0.0436 - accuracy: 0.9681\n",
            "Epoch 170/200\n",
            "10/10 [==============================] - 0s 2ms/step - loss: 0.0114 - accuracy: 1.0000\n",
            "Epoch 171/200\n",
            "10/10 [==============================] - 0s 2ms/step - loss: 0.0075 - accuracy: 1.0000\n",
            "Epoch 172/200\n",
            "10/10 [==============================] - 0s 2ms/step - loss: 0.0099 - accuracy: 1.0000\n",
            "Epoch 173/200\n",
            "10/10 [==============================] - 0s 2ms/step - loss: 0.0103 - accuracy: 1.0000\n",
            "Epoch 174/200\n",
            "10/10 [==============================] - 0s 2ms/step - loss: 0.0140 - accuracy: 1.0000\n",
            "Epoch 175/200\n",
            "10/10 [==============================] - 0s 2ms/step - loss: 0.0330 - accuracy: 0.9862\n",
            "Epoch 176/200\n",
            "10/10 [==============================] - 0s 2ms/step - loss: 0.0191 - accuracy: 1.0000\n",
            "Epoch 177/200\n",
            "10/10 [==============================] - 0s 2ms/step - loss: 0.0455 - accuracy: 1.0000\n",
            "Epoch 178/200\n",
            "10/10 [==============================] - 0s 2ms/step - loss: 0.0018 - accuracy: 1.0000\n",
            "Epoch 179/200\n",
            "10/10 [==============================] - 0s 2ms/step - loss: 0.0567 - accuracy: 0.9720\n",
            "Epoch 180/200\n",
            "10/10 [==============================] - 0s 2ms/step - loss: 0.0204 - accuracy: 1.0000\n",
            "Epoch 181/200\n",
            "10/10 [==============================] - 0s 2ms/step - loss: 0.0558 - accuracy: 0.9720\n",
            "Epoch 182/200\n",
            "10/10 [==============================] - 0s 2ms/step - loss: 0.0075 - accuracy: 1.0000\n",
            "Epoch 183/200\n",
            "10/10 [==============================] - 0s 2ms/step - loss: 0.0260 - accuracy: 1.0000\n",
            "Epoch 184/200\n",
            "10/10 [==============================] - 0s 2ms/step - loss: 0.0108 - accuracy: 1.0000\n",
            "Epoch 185/200\n",
            "10/10 [==============================] - 0s 2ms/step - loss: 0.0842 - accuracy: 0.9447\n",
            "Epoch 186/200\n",
            "10/10 [==============================] - 0s 2ms/step - loss: 0.0096 - accuracy: 1.0000\n",
            "Epoch 187/200\n",
            "10/10 [==============================] - 0s 2ms/step - loss: 0.0581 - accuracy: 0.9388\n",
            "Epoch 188/200\n",
            "10/10 [==============================] - 0s 2ms/step - loss: 0.0134 - accuracy: 1.0000\n",
            "Epoch 189/200\n",
            "10/10 [==============================] - 0s 2ms/step - loss: 0.0462 - accuracy: 0.9780\n",
            "Epoch 190/200\n",
            "10/10 [==============================] - 0s 2ms/step - loss: 0.0094 - accuracy: 1.0000\n",
            "Epoch 191/200\n",
            "10/10 [==============================] - 0s 2ms/step - loss: 0.0039 - accuracy: 1.0000\n",
            "Epoch 192/200\n",
            "10/10 [==============================] - 0s 2ms/step - loss: 0.0111 - accuracy: 1.0000\n",
            "Epoch 193/200\n",
            "10/10 [==============================] - 0s 2ms/step - loss: 0.0028 - accuracy: 1.0000\n",
            "Epoch 194/200\n",
            "10/10 [==============================] - 0s 2ms/step - loss: 0.0029 - accuracy: 1.0000\n",
            "Epoch 195/200\n",
            "10/10 [==============================] - 0s 2ms/step - loss: 0.0253 - accuracy: 0.9892\n",
            "Epoch 196/200\n",
            "10/10 [==============================] - 0s 2ms/step - loss: 0.0072 - accuracy: 1.0000\n",
            "Epoch 197/200\n",
            "10/10 [==============================] - 0s 2ms/step - loss: 0.0139 - accuracy: 1.0000\n",
            "Epoch 198/200\n",
            "10/10 [==============================] - 0s 2ms/step - loss: 0.0092 - accuracy: 0.9918\n",
            "Epoch 199/200\n",
            "10/10 [==============================] - 0s 2ms/step - loss: 0.0185 - accuracy: 1.0000\n",
            "Epoch 200/200\n",
            "10/10 [==============================] - 0s 2ms/step - loss: 0.0026 - accuracy: 1.0000\n"
          ],
          "name": "stdout"
        }
      ]
    },
    {
      "cell_type": "code",
      "metadata": {
        "colab": {
          "base_uri": "https://localhost:8080/"
        },
        "id": "GlBmKmEolJKi",
        "outputId": "346c448d-afb0-402b-b51d-139f30feff3d"
      },
      "source": [
        "model.save('chatbot_model.h5', hist)\n",
        "print(\"model created\")"
      ],
      "execution_count": 43,
      "outputs": [
        {
          "output_type": "stream",
          "text": [
            "model created\n"
          ],
          "name": "stdout"
        }
      ]
    },
    {
      "cell_type": "code",
      "metadata": {
        "id": "9YFd_bKGlQ50"
      },
      "source": [
        "def clean_up_sentence(sentence):\n",
        "    # tokenize the pattern - split words into array\n",
        "    sentence_words = nltk.word_tokenize(sentence)\n",
        "    # stem each word - create short form for word\n",
        "    sentence_words = [lemmatizer.lemmatize(word.lower()) for word in sentence_words]\n",
        "    return sentence_words\n",
        "# return bag of words array: 0 or 1 for each word in the bag that exists in the sentence\n",
        "def bow(sentence, words, show_details=True):\n",
        "    # tokenize the pattern\n",
        "    sentence_words = clean_up_sentence(sentence)\n",
        "    # bag of words - matrix of N words, vocabulary matrix\n",
        "    bag = [0]*len(words) \n",
        "    for s in sentence_words:\n",
        "        for i,w in enumerate(words):\n",
        "            if w == s: \n",
        "                # assign 1 if current word is in the vocabulary position\n",
        "                bag[i] = 1\n",
        "                if show_details:\n",
        "                    print (\"found in bag: %s\" % w)\n",
        "    return(np.array(bag))\n",
        "def predict_class(sentence, model):\n",
        "    # filter out predictions below a threshold\n",
        "    p = bow(sentence, words,show_details=False)\n",
        "    res = model.predict(np.array([p]))[0]\n",
        "    ERROR_THRESHOLD = 0.25\n",
        "    results = [[i,r] for i,r in enumerate(res) if r>ERROR_THRESHOLD]\n",
        "    # sort by strength of probability\n",
        "    results.sort(key=lambda x: x[1], reverse=True)\n",
        "    return_list = []\n",
        "    for r in results:\n",
        "        return_list.append({\"intent\": classes[r[0]], \"probability\": str(r[1])})\n",
        "    return return_list\n"
      ],
      "execution_count": 44,
      "outputs": []
    },
    {
      "cell_type": "code",
      "metadata": {
        "id": "MlPozgJCuRqF"
      },
      "source": [
        "def getResponse(ints, intents_json):\n",
        "    tag = ints[0]['intent']\n",
        "    list_of_intents = intents_json['intents']\n",
        "    for i in list_of_intents:\n",
        "        if(i['tag']== tag):\n",
        "            result = random.choice(i['responses'])\n",
        "            break\n",
        "    return result\n",
        "def chatbot_response(text):\n",
        "    ints = predict_class(text, model)\n",
        "    res = getResponse(ints, intents)\n",
        "    return res"
      ],
      "execution_count": 45,
      "outputs": []
    },
    {
      "cell_type": "code",
      "metadata": {
        "id": "9CGaU4uuuXKX"
      },
      "source": [
        "import tkinter\n",
        "from tkinter import *\n"
      ],
      "execution_count": 48,
      "outputs": []
    },
    {
      "cell_type": "code",
      "metadata": {
        "colab": {
          "base_uri": "https://localhost:8080/",
          "height": 363
        },
        "id": "HHTiBT1Au1eG",
        "outputId": "5db786bb-07b7-42cd-c440-58b8b5abb9b0"
      },
      "source": [
        "def send():\n",
        "    msg = EntryBox.get(\"1.0\",'end-1c').strip()\n",
        "    EntryBox.delete(\"0.0\",END)\n",
        "    if msg != '':\n",
        "        ChatLog.config(state=NORMAL)\n",
        "        ChatLog.insert(END, \"You: \" + msg + '\\n\\n')\n",
        "        ChatLog.config(foreground=\"#442265\", font=(\"Verdana\", 12 ))\n",
        "        res = chatbot_response(msg)\n",
        "        ChatLog.insert(END, \"Bot: \" + res + '\\n\\n')\n",
        "        ChatLog.config(state=DISABLED)\n",
        "        ChatLog.yview(END)\n",
        "\n",
        "\n",
        "\n",
        "#create main window\n",
        "#master = Tkinter.Tk()\n",
        "    \n",
        "base=Tk()\n",
        "base.title(\"Hello\")\n",
        "base.geometry(\"400x500\")\n",
        "base.resizable(width=FALSE, height=FALSE)\n",
        "#Create Chat window\n",
        "ChatLog = Text(base, bd=0, bg=\"white\", height=\"8\", width=\"50\", font=\"Arial\",)\n",
        "ChatLog.config(state=DISABLED)\n",
        "#Bind scrollbar to Chat window\n",
        "scrollbar = Scrollbar(base, command=ChatLog.yview, cursor=\"heart\")\n",
        "ChatLog['yscrollcommand'] = scrollbar.set\n",
        "#Create Button to send message\n",
        "SendButton = Button(base, font=(\"Verdana\",12,'bold'), text=\"Send\", width=\"12\", height=5,\n",
        "                    bd=0, bg=\"#32de97\", activebackground=\"#3c9d9b\",fg='#ffffff',\n",
        "                    command= send )\n",
        "#Create the box to enter message\n",
        "EntryBox = Text(base, bd=0, bg=\"white\",width=\"29\", height=\"5\", font=\"Arial\")\n",
        "#EntryBox.bind(\"<Return>\", send)\n",
        "#Place all components on the screen\n",
        "scrollbar.place(x=376,y=6, height=386)\n",
        "ChatLog.place(x=6,y=6, height=386, width=370)\n",
        "EntryBox.place(x=128, y=401, height=90, width=265)\n",
        "SendButton.place(x=6, y=401, height=90)\n",
        "base.mainloop()"
      ],
      "execution_count": 54,
      "outputs": [
        {
          "output_type": "error",
          "ename": "TclError",
          "evalue": "ignored",
          "traceback": [
            "\u001b[0;31m---------------------------------------------------------------------------\u001b[0m",
            "\u001b[0;31mTclError\u001b[0m                                  Traceback (most recent call last)",
            "\u001b[0;32m<ipython-input-54-0bf5fae25d5e>\u001b[0m in \u001b[0;36m<module>\u001b[0;34m()\u001b[0m\n\u001b[1;32m     16\u001b[0m \u001b[0;31m#master = Tkinter.Tk()\u001b[0m\u001b[0;34m\u001b[0m\u001b[0;34m\u001b[0m\u001b[0;34m\u001b[0m\u001b[0m\n\u001b[1;32m     17\u001b[0m \u001b[0;34m\u001b[0m\u001b[0m\n\u001b[0;32m---> 18\u001b[0;31m \u001b[0mbase\u001b[0m \u001b[0;34m=\u001b[0m\u001b[0mTk\u001b[0m\u001b[0;34m(\u001b[0m\u001b[0;34m)\u001b[0m\u001b[0;34m\u001b[0m\u001b[0;34m\u001b[0m\u001b[0m\n\u001b[0m\u001b[1;32m     19\u001b[0m \u001b[0mbase\u001b[0m\u001b[0;34m.\u001b[0m\u001b[0mtitle\u001b[0m\u001b[0;34m(\u001b[0m\u001b[0;34m\"Hello\"\u001b[0m\u001b[0;34m)\u001b[0m\u001b[0;34m\u001b[0m\u001b[0;34m\u001b[0m\u001b[0m\n\u001b[1;32m     20\u001b[0m \u001b[0mbase\u001b[0m\u001b[0;34m.\u001b[0m\u001b[0mgeometry\u001b[0m\u001b[0;34m(\u001b[0m\u001b[0;34m\"400x500\"\u001b[0m\u001b[0;34m)\u001b[0m\u001b[0;34m\u001b[0m\u001b[0;34m\u001b[0m\u001b[0m\n",
            "\u001b[0;32m/usr/lib/python3.7/tkinter/__init__.py\u001b[0m in \u001b[0;36m__init__\u001b[0;34m(self, screenName, baseName, className, useTk, sync, use)\u001b[0m\n\u001b[1;32m   2021\u001b[0m                 \u001b[0mbaseName\u001b[0m \u001b[0;34m=\u001b[0m \u001b[0mbaseName\u001b[0m \u001b[0;34m+\u001b[0m \u001b[0mext\u001b[0m\u001b[0;34m\u001b[0m\u001b[0;34m\u001b[0m\u001b[0m\n\u001b[1;32m   2022\u001b[0m         \u001b[0minteractive\u001b[0m \u001b[0;34m=\u001b[0m \u001b[0;36m0\u001b[0m\u001b[0;34m\u001b[0m\u001b[0;34m\u001b[0m\u001b[0m\n\u001b[0;32m-> 2023\u001b[0;31m         \u001b[0mself\u001b[0m\u001b[0;34m.\u001b[0m\u001b[0mtk\u001b[0m \u001b[0;34m=\u001b[0m \u001b[0m_tkinter\u001b[0m\u001b[0;34m.\u001b[0m\u001b[0mcreate\u001b[0m\u001b[0;34m(\u001b[0m\u001b[0mscreenName\u001b[0m\u001b[0;34m,\u001b[0m \u001b[0mbaseName\u001b[0m\u001b[0;34m,\u001b[0m \u001b[0mclassName\u001b[0m\u001b[0;34m,\u001b[0m \u001b[0minteractive\u001b[0m\u001b[0;34m,\u001b[0m \u001b[0mwantobjects\u001b[0m\u001b[0;34m,\u001b[0m \u001b[0museTk\u001b[0m\u001b[0;34m,\u001b[0m \u001b[0msync\u001b[0m\u001b[0;34m,\u001b[0m \u001b[0muse\u001b[0m\u001b[0;34m)\u001b[0m\u001b[0;34m\u001b[0m\u001b[0;34m\u001b[0m\u001b[0m\n\u001b[0m\u001b[1;32m   2024\u001b[0m         \u001b[0;32mif\u001b[0m \u001b[0museTk\u001b[0m\u001b[0;34m:\u001b[0m\u001b[0;34m\u001b[0m\u001b[0;34m\u001b[0m\u001b[0m\n\u001b[1;32m   2025\u001b[0m             \u001b[0mself\u001b[0m\u001b[0;34m.\u001b[0m\u001b[0m_loadtk\u001b[0m\u001b[0;34m(\u001b[0m\u001b[0;34m)\u001b[0m\u001b[0;34m\u001b[0m\u001b[0;34m\u001b[0m\u001b[0m\n",
            "\u001b[0;31mTclError\u001b[0m: couldn't connect to display \":0.0\""
          ]
        }
      ]
    },
    {
      "cell_type": "code",
      "metadata": {
        "id": "SE2db4OTwpuH"
      },
      "source": [
        ""
      ],
      "execution_count": null,
      "outputs": []
    }
  ]
}